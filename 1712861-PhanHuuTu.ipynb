{
 "cells": [
  {
   "cell_type": "markdown",
   "metadata": {},
   "source": [
    "Đường dẫn đến dataset trên kaggle: https://www.kaggle.com/START-UMD/gtd"
   ]
  },
  {
   "cell_type": "markdown",
   "metadata": {},
   "source": [
    "#  Thư viện"
   ]
  },
  {
   "cell_type": "code",
   "execution_count": 1,
   "metadata": {},
   "outputs": [],
   "source": [
    "\n",
    "import pandas as pd\n",
    "import numpy as np\n",
    "\n",
    "# Thư viện dùng để trực quan hóa dữ liệu\n",
    "import matplotlib.pyplot as plt\n",
    "import matplotlib.patches as mpatches\n",
    "import seaborn as sns\n",
    "\n",
    "# Thư viện dùng để hiển thị bản đồ thế giới \n",
    "#pip install folium\n",
    "#pip install https://github.com/matplotlib/basemap/archive/master.zip\n",
    "# import folium\n",
    "# import folium.plugins\n",
    "# from mpl_toolkits.basemap import Basemap\n",
    "\n",
    "# import io\n",
    "# import base64\n",
    "# from IPython.display import HTML, display\n",
    "# from matplotlib import animation,rc\n",
    "\n",
    "%matplotlib inline\n",
    "sns.set(rc={\"figure.figsize\": (16, 8)})"
   ]
  },
  {
   "cell_type": "markdown",
   "metadata": {},
   "source": [
    "# Đọc dữ liệu"
   ]
  },
  {
   "cell_type": "code",
   "execution_count": 2,
   "metadata": {},
   "outputs": [
    {
     "name": "stderr",
     "output_type": "stream",
     "text": [
      "c:\\python\\python36\\lib\\site-packages\\IPython\\core\\interactiveshell.py:3072: DtypeWarning: Columns (4,6,31,33,61,62,63,76,79,90,92,94,96,114,115,121) have mixed types.Specify dtype option on import or set low_memory=False.\n",
      "  interactivity=interactivity, compiler=compiler, result=result)\n"
     ]
    },
    {
     "data": {
      "text/html": [
       "<div>\n",
       "<style scoped>\n",
       "    .dataframe tbody tr th:only-of-type {\n",
       "        vertical-align: middle;\n",
       "    }\n",
       "\n",
       "    .dataframe tbody tr th {\n",
       "        vertical-align: top;\n",
       "    }\n",
       "\n",
       "    .dataframe thead th {\n",
       "        text-align: right;\n",
       "    }\n",
       "</style>\n",
       "<table border=\"1\" class=\"dataframe\">\n",
       "  <thead>\n",
       "    <tr style=\"text-align: right;\">\n",
       "      <th></th>\n",
       "      <th>eventid</th>\n",
       "      <th>iyear</th>\n",
       "      <th>imonth</th>\n",
       "      <th>iday</th>\n",
       "      <th>approxdate</th>\n",
       "      <th>extended</th>\n",
       "      <th>resolution</th>\n",
       "      <th>country</th>\n",
       "      <th>country_txt</th>\n",
       "      <th>region</th>\n",
       "      <th>...</th>\n",
       "      <th>addnotes</th>\n",
       "      <th>scite1</th>\n",
       "      <th>scite2</th>\n",
       "      <th>scite3</th>\n",
       "      <th>dbsource</th>\n",
       "      <th>INT_LOG</th>\n",
       "      <th>INT_IDEO</th>\n",
       "      <th>INT_MISC</th>\n",
       "      <th>INT_ANY</th>\n",
       "      <th>related</th>\n",
       "    </tr>\n",
       "  </thead>\n",
       "  <tbody>\n",
       "    <tr>\n",
       "      <th>0</th>\n",
       "      <td>197000000001</td>\n",
       "      <td>1970</td>\n",
       "      <td>7</td>\n",
       "      <td>2</td>\n",
       "      <td>NaN</td>\n",
       "      <td>0</td>\n",
       "      <td>NaN</td>\n",
       "      <td>58</td>\n",
       "      <td>Dominican Republic</td>\n",
       "      <td>2</td>\n",
       "      <td>...</td>\n",
       "      <td>NaN</td>\n",
       "      <td>NaN</td>\n",
       "      <td>NaN</td>\n",
       "      <td>NaN</td>\n",
       "      <td>PGIS</td>\n",
       "      <td>0</td>\n",
       "      <td>0</td>\n",
       "      <td>0</td>\n",
       "      <td>0</td>\n",
       "      <td>NaN</td>\n",
       "    </tr>\n",
       "    <tr>\n",
       "      <th>1</th>\n",
       "      <td>197000000002</td>\n",
       "      <td>1970</td>\n",
       "      <td>0</td>\n",
       "      <td>0</td>\n",
       "      <td>NaN</td>\n",
       "      <td>0</td>\n",
       "      <td>NaN</td>\n",
       "      <td>130</td>\n",
       "      <td>Mexico</td>\n",
       "      <td>1</td>\n",
       "      <td>...</td>\n",
       "      <td>NaN</td>\n",
       "      <td>NaN</td>\n",
       "      <td>NaN</td>\n",
       "      <td>NaN</td>\n",
       "      <td>PGIS</td>\n",
       "      <td>0</td>\n",
       "      <td>1</td>\n",
       "      <td>1</td>\n",
       "      <td>1</td>\n",
       "      <td>NaN</td>\n",
       "    </tr>\n",
       "    <tr>\n",
       "      <th>2</th>\n",
       "      <td>197001000001</td>\n",
       "      <td>1970</td>\n",
       "      <td>1</td>\n",
       "      <td>0</td>\n",
       "      <td>NaN</td>\n",
       "      <td>0</td>\n",
       "      <td>NaN</td>\n",
       "      <td>160</td>\n",
       "      <td>Philippines</td>\n",
       "      <td>5</td>\n",
       "      <td>...</td>\n",
       "      <td>NaN</td>\n",
       "      <td>NaN</td>\n",
       "      <td>NaN</td>\n",
       "      <td>NaN</td>\n",
       "      <td>PGIS</td>\n",
       "      <td>-9</td>\n",
       "      <td>-9</td>\n",
       "      <td>1</td>\n",
       "      <td>1</td>\n",
       "      <td>NaN</td>\n",
       "    </tr>\n",
       "    <tr>\n",
       "      <th>3</th>\n",
       "      <td>197001000002</td>\n",
       "      <td>1970</td>\n",
       "      <td>1</td>\n",
       "      <td>0</td>\n",
       "      <td>NaN</td>\n",
       "      <td>0</td>\n",
       "      <td>NaN</td>\n",
       "      <td>78</td>\n",
       "      <td>Greece</td>\n",
       "      <td>8</td>\n",
       "      <td>...</td>\n",
       "      <td>NaN</td>\n",
       "      <td>NaN</td>\n",
       "      <td>NaN</td>\n",
       "      <td>NaN</td>\n",
       "      <td>PGIS</td>\n",
       "      <td>-9</td>\n",
       "      <td>-9</td>\n",
       "      <td>1</td>\n",
       "      <td>1</td>\n",
       "      <td>NaN</td>\n",
       "    </tr>\n",
       "    <tr>\n",
       "      <th>4</th>\n",
       "      <td>197001000003</td>\n",
       "      <td>1970</td>\n",
       "      <td>1</td>\n",
       "      <td>0</td>\n",
       "      <td>NaN</td>\n",
       "      <td>0</td>\n",
       "      <td>NaN</td>\n",
       "      <td>101</td>\n",
       "      <td>Japan</td>\n",
       "      <td>4</td>\n",
       "      <td>...</td>\n",
       "      <td>NaN</td>\n",
       "      <td>NaN</td>\n",
       "      <td>NaN</td>\n",
       "      <td>NaN</td>\n",
       "      <td>PGIS</td>\n",
       "      <td>-9</td>\n",
       "      <td>-9</td>\n",
       "      <td>1</td>\n",
       "      <td>1</td>\n",
       "      <td>NaN</td>\n",
       "    </tr>\n",
       "  </tbody>\n",
       "</table>\n",
       "<p>5 rows × 135 columns</p>\n",
       "</div>"
      ],
      "text/plain": [
       "        eventid  iyear  imonth  iday approxdate  extended resolution  country  \\\n",
       "0  197000000001   1970       7     2        NaN         0        NaN       58   \n",
       "1  197000000002   1970       0     0        NaN         0        NaN      130   \n",
       "2  197001000001   1970       1     0        NaN         0        NaN      160   \n",
       "3  197001000002   1970       1     0        NaN         0        NaN       78   \n",
       "4  197001000003   1970       1     0        NaN         0        NaN      101   \n",
       "\n",
       "          country_txt  region  ... addnotes scite1 scite2  scite3  dbsource  \\\n",
       "0  Dominican Republic       2  ...      NaN    NaN    NaN     NaN      PGIS   \n",
       "1              Mexico       1  ...      NaN    NaN    NaN     NaN      PGIS   \n",
       "2         Philippines       5  ...      NaN    NaN    NaN     NaN      PGIS   \n",
       "3              Greece       8  ...      NaN    NaN    NaN     NaN      PGIS   \n",
       "4               Japan       4  ...      NaN    NaN    NaN     NaN      PGIS   \n",
       "\n",
       "   INT_LOG  INT_IDEO INT_MISC INT_ANY  related  \n",
       "0        0         0        0       0      NaN  \n",
       "1        0         1        1       1      NaN  \n",
       "2       -9        -9        1       1      NaN  \n",
       "3       -9        -9        1       1      NaN  \n",
       "4       -9        -9        1       1      NaN  \n",
       "\n",
       "[5 rows x 135 columns]"
      ]
     },
     "execution_count": 2,
     "metadata": {},
     "output_type": "execute_result"
    }
   ],
   "source": [
    "# Đọc dữ liệu, sử dụng data frame của pandas\n",
    "original_df = pd.read_csv(\"globalterrorismdb_0718dist.csv\", encoding='ISO-8859-1')\n",
    "#copy dữ liệu ra ngoài\n",
    "df = original_df.copy()\n",
    "# Xem thử 1 số dòng đầu của dữ liệu\n",
    "df.head()"
   ]
  },
  {
   "cell_type": "code",
   "execution_count": 3,
   "metadata": {},
   "outputs": [
    {
     "data": {
      "text/html": [
       "<div>\n",
       "<style scoped>\n",
       "    .dataframe tbody tr th:only-of-type {\n",
       "        vertical-align: middle;\n",
       "    }\n",
       "\n",
       "    .dataframe tbody tr th {\n",
       "        vertical-align: top;\n",
       "    }\n",
       "\n",
       "    .dataframe thead th {\n",
       "        text-align: right;\n",
       "    }\n",
       "</style>\n",
       "<table border=\"1\" class=\"dataframe\">\n",
       "  <thead>\n",
       "    <tr style=\"text-align: right;\">\n",
       "      <th></th>\n",
       "      <th>eventid</th>\n",
       "      <th>iyear</th>\n",
       "      <th>imonth</th>\n",
       "      <th>iday</th>\n",
       "      <th>approxdate</th>\n",
       "      <th>extended</th>\n",
       "      <th>resolution</th>\n",
       "      <th>country</th>\n",
       "      <th>country_txt</th>\n",
       "      <th>region</th>\n",
       "      <th>...</th>\n",
       "      <th>addnotes</th>\n",
       "      <th>scite1</th>\n",
       "      <th>scite2</th>\n",
       "      <th>scite3</th>\n",
       "      <th>dbsource</th>\n",
       "      <th>INT_LOG</th>\n",
       "      <th>INT_IDEO</th>\n",
       "      <th>INT_MISC</th>\n",
       "      <th>INT_ANY</th>\n",
       "      <th>related</th>\n",
       "    </tr>\n",
       "  </thead>\n",
       "  <tbody>\n",
       "    <tr>\n",
       "      <th>181686</th>\n",
       "      <td>201712310022</td>\n",
       "      <td>2017</td>\n",
       "      <td>12</td>\n",
       "      <td>31</td>\n",
       "      <td>NaN</td>\n",
       "      <td>0</td>\n",
       "      <td>NaN</td>\n",
       "      <td>182</td>\n",
       "      <td>Somalia</td>\n",
       "      <td>11</td>\n",
       "      <td>...</td>\n",
       "      <td>NaN</td>\n",
       "      <td>\"Somalia: Al-Shabaab Militants Attack Army Che...</td>\n",
       "      <td>\"Highlights: Somalia Daily Media Highlights 2 ...</td>\n",
       "      <td>\"Highlights: Somalia Daily Media Highlights 1 ...</td>\n",
       "      <td>START Primary Collection</td>\n",
       "      <td>0</td>\n",
       "      <td>0</td>\n",
       "      <td>0</td>\n",
       "      <td>0</td>\n",
       "      <td>NaN</td>\n",
       "    </tr>\n",
       "    <tr>\n",
       "      <th>181687</th>\n",
       "      <td>201712310029</td>\n",
       "      <td>2017</td>\n",
       "      <td>12</td>\n",
       "      <td>31</td>\n",
       "      <td>NaN</td>\n",
       "      <td>0</td>\n",
       "      <td>NaN</td>\n",
       "      <td>200</td>\n",
       "      <td>Syria</td>\n",
       "      <td>10</td>\n",
       "      <td>...</td>\n",
       "      <td>NaN</td>\n",
       "      <td>\"Putin's 'victory' in Syria has turned into a ...</td>\n",
       "      <td>\"Two Russian soldiers killed at Hmeymim base i...</td>\n",
       "      <td>\"Two Russian servicemen killed in Syria mortar...</td>\n",
       "      <td>START Primary Collection</td>\n",
       "      <td>-9</td>\n",
       "      <td>-9</td>\n",
       "      <td>1</td>\n",
       "      <td>1</td>\n",
       "      <td>NaN</td>\n",
       "    </tr>\n",
       "    <tr>\n",
       "      <th>181688</th>\n",
       "      <td>201712310030</td>\n",
       "      <td>2017</td>\n",
       "      <td>12</td>\n",
       "      <td>31</td>\n",
       "      <td>NaN</td>\n",
       "      <td>0</td>\n",
       "      <td>NaN</td>\n",
       "      <td>160</td>\n",
       "      <td>Philippines</td>\n",
       "      <td>5</td>\n",
       "      <td>...</td>\n",
       "      <td>NaN</td>\n",
       "      <td>\"Maguindanao clashes trap tribe members,\" Phil...</td>\n",
       "      <td>NaN</td>\n",
       "      <td>NaN</td>\n",
       "      <td>START Primary Collection</td>\n",
       "      <td>0</td>\n",
       "      <td>0</td>\n",
       "      <td>0</td>\n",
       "      <td>0</td>\n",
       "      <td>NaN</td>\n",
       "    </tr>\n",
       "    <tr>\n",
       "      <th>181689</th>\n",
       "      <td>201712310031</td>\n",
       "      <td>2017</td>\n",
       "      <td>12</td>\n",
       "      <td>31</td>\n",
       "      <td>NaN</td>\n",
       "      <td>0</td>\n",
       "      <td>NaN</td>\n",
       "      <td>92</td>\n",
       "      <td>India</td>\n",
       "      <td>6</td>\n",
       "      <td>...</td>\n",
       "      <td>NaN</td>\n",
       "      <td>\"Trader escapes grenade attack in Imphal,\" Bus...</td>\n",
       "      <td>NaN</td>\n",
       "      <td>NaN</td>\n",
       "      <td>START Primary Collection</td>\n",
       "      <td>-9</td>\n",
       "      <td>-9</td>\n",
       "      <td>0</td>\n",
       "      <td>-9</td>\n",
       "      <td>NaN</td>\n",
       "    </tr>\n",
       "    <tr>\n",
       "      <th>181690</th>\n",
       "      <td>201712310032</td>\n",
       "      <td>2017</td>\n",
       "      <td>12</td>\n",
       "      <td>31</td>\n",
       "      <td>NaN</td>\n",
       "      <td>0</td>\n",
       "      <td>NaN</td>\n",
       "      <td>160</td>\n",
       "      <td>Philippines</td>\n",
       "      <td>5</td>\n",
       "      <td>...</td>\n",
       "      <td>NaN</td>\n",
       "      <td>\"Security tightened in Cotabato following IED ...</td>\n",
       "      <td>\"Security tightened in Cotabato City,\" Manila ...</td>\n",
       "      <td>NaN</td>\n",
       "      <td>START Primary Collection</td>\n",
       "      <td>-9</td>\n",
       "      <td>-9</td>\n",
       "      <td>0</td>\n",
       "      <td>-9</td>\n",
       "      <td>NaN</td>\n",
       "    </tr>\n",
       "  </tbody>\n",
       "</table>\n",
       "<p>5 rows × 135 columns</p>\n",
       "</div>"
      ],
      "text/plain": [
       "             eventid  iyear  imonth  iday approxdate  extended resolution  \\\n",
       "181686  201712310022   2017      12    31        NaN         0        NaN   \n",
       "181687  201712310029   2017      12    31        NaN         0        NaN   \n",
       "181688  201712310030   2017      12    31        NaN         0        NaN   \n",
       "181689  201712310031   2017      12    31        NaN         0        NaN   \n",
       "181690  201712310032   2017      12    31        NaN         0        NaN   \n",
       "\n",
       "        country  country_txt  region  ... addnotes  \\\n",
       "181686      182      Somalia      11  ...      NaN   \n",
       "181687      200        Syria      10  ...      NaN   \n",
       "181688      160  Philippines       5  ...      NaN   \n",
       "181689       92        India       6  ...      NaN   \n",
       "181690      160  Philippines       5  ...      NaN   \n",
       "\n",
       "                                                   scite1  \\\n",
       "181686  \"Somalia: Al-Shabaab Militants Attack Army Che...   \n",
       "181687  \"Putin's 'victory' in Syria has turned into a ...   \n",
       "181688  \"Maguindanao clashes trap tribe members,\" Phil...   \n",
       "181689  \"Trader escapes grenade attack in Imphal,\" Bus...   \n",
       "181690  \"Security tightened in Cotabato following IED ...   \n",
       "\n",
       "                                                   scite2  \\\n",
       "181686  \"Highlights: Somalia Daily Media Highlights 2 ...   \n",
       "181687  \"Two Russian soldiers killed at Hmeymim base i...   \n",
       "181688                                                NaN   \n",
       "181689                                                NaN   \n",
       "181690  \"Security tightened in Cotabato City,\" Manila ...   \n",
       "\n",
       "                                                   scite3  \\\n",
       "181686  \"Highlights: Somalia Daily Media Highlights 1 ...   \n",
       "181687  \"Two Russian servicemen killed in Syria mortar...   \n",
       "181688                                                NaN   \n",
       "181689                                                NaN   \n",
       "181690                                                NaN   \n",
       "\n",
       "                        dbsource  INT_LOG  INT_IDEO INT_MISC INT_ANY  related  \n",
       "181686  START Primary Collection        0         0        0       0      NaN  \n",
       "181687  START Primary Collection       -9        -9        1       1      NaN  \n",
       "181688  START Primary Collection        0         0        0       0      NaN  \n",
       "181689  START Primary Collection       -9        -9        0      -9      NaN  \n",
       "181690  START Primary Collection       -9        -9        0      -9      NaN  \n",
       "\n",
       "[5 rows x 135 columns]"
      ]
     },
     "execution_count": 3,
     "metadata": {},
     "output_type": "execute_result"
    }
   ],
   "source": [
    "# xem thử 1 số dòng cuối của dữ liệu\n",
    "df.tail()"
   ]
  },
  {
   "cell_type": "code",
   "execution_count": 4,
   "metadata": {},
   "outputs": [
    {
     "data": {
      "text/plain": [
       "135"
      ]
     },
     "execution_count": 4,
     "metadata": {},
     "output_type": "execute_result"
    }
   ],
   "source": [
    "# Lấy số lượng cột của dữ liệu\n",
    "len(df.columns)"
   ]
  },
  {
   "cell_type": "code",
   "execution_count": 5,
   "metadata": {},
   "outputs": [
    {
     "data": {
      "text/plain": [
       "181691"
      ]
     },
     "execution_count": 5,
     "metadata": {},
     "output_type": "execute_result"
    }
   ],
   "source": [
    "# Lấy số lượng dòng của dữ liệu\n",
    "num_rows = len(df)\n",
    "num_rows"
   ]
  },
  {
   "cell_type": "code",
   "execution_count": 6,
   "metadata": {},
   "outputs": [
    {
     "data": {
      "text/plain": [
       "eventid            0\n",
       "iyear              0\n",
       "imonth             0\n",
       "iday               0\n",
       "approxdate    172452\n",
       "               ...  \n",
       "INT_LOG            0\n",
       "INT_IDEO           0\n",
       "INT_MISC           0\n",
       "INT_ANY            0\n",
       "related       156653\n",
       "Length: 135, dtype: int64"
      ]
     },
     "execution_count": 6,
     "metadata": {},
     "output_type": "execute_result"
    }
   ],
   "source": [
    "#Xác định số lượng dữ liệu bị thiếu ở mỗi cột\n",
    "df.isnull().sum() "
   ]
  },
  {
   "cell_type": "markdown",
   "metadata": {},
   "source": [
    "Quan sát qua số lượng cột dữ liệu ta thấy quá lớn và có quá nhiều thuộc tính chứa giá trị null hoặc nan"
   ]
  },
  {
   "cell_type": "markdown",
   "metadata": {},
   "source": [
    "# Tiền xử lý dữ liệu"
   ]
  },
  {
   "cell_type": "markdown",
   "metadata": {},
   "source": [
    "Loại bỏ các cột có giá trị **nan**"
   ]
  },
  {
   "cell_type": "code",
   "execution_count": 7,
   "metadata": {},
   "outputs": [
    {
     "data": {
      "text/plain": [
       "47"
      ]
     },
     "execution_count": 7,
     "metadata": {},
     "output_type": "execute_result"
    }
   ],
   "source": [
    "# bỏ đi các cột có số lượng giá trị nan lên tới 80% dữ liệu\n",
    "cutoff = 0.8\n",
    "df = df.dropna(thresh=int(cutoff*num_rows), axis=1)\n",
    "# hiển thị số cột còn lại\n",
    "len(df.columns)"
   ]
  },
  {
   "cell_type": "code",
   "execution_count": 8,
   "metadata": {},
   "outputs": [
    {
     "data": {
      "text/plain": [
       "eventid                 0\n",
       "iyear                   0\n",
       "imonth                  0\n",
       "iday                    0\n",
       "extended                0\n",
       "country                 0\n",
       "country_txt             0\n",
       "region                  0\n",
       "region_txt              0\n",
       "provstate             421\n",
       "city                  434\n",
       "latitude             4556\n",
       "longitude            4557\n",
       "specificity             6\n",
       "vicinity                0\n",
       "crit1                   0\n",
       "crit2                   0\n",
       "crit3                   0\n",
       "doubtterr               1\n",
       "multiple                1\n",
       "success                 0\n",
       "suicide                 0\n",
       "attacktype1             0\n",
       "attacktype1_txt         0\n",
       "targtype1               0\n",
       "targtype1_txt           0\n",
       "targsubtype1        10373\n",
       "targsubtype1_txt    10373\n",
       "target1               636\n",
       "natlty1              1559\n",
       "natlty1_txt          1559\n",
       "gname                   0\n",
       "guncertain1           380\n",
       "individual              0\n",
       "weaptype1               0\n",
       "weaptype1_txt           0\n",
       "weapsubtype1        20768\n",
       "weapsubtype1_txt    20768\n",
       "nkill               10313\n",
       "nwound              16311\n",
       "property                0\n",
       "ishostkid             178\n",
       "dbsource                0\n",
       "INT_LOG                 0\n",
       "INT_IDEO                0\n",
       "INT_MISC                0\n",
       "INT_ANY                 0\n",
       "dtype: int64"
      ]
     },
     "execution_count": 8,
     "metadata": {},
     "output_type": "execute_result"
    }
   ],
   "source": [
    "# thống kê số lượng giá trị nan cho các cột còn lại\n",
    "df.isnull().sum()"
   ]
  },
  {
   "cell_type": "markdown",
   "metadata": {},
   "source": [
    "Quan sát qua 1 lần nữa các cột sau khi đã lược bỏ, đánh giá từng cột như sau:\n",
    "- Các cột không có thông tin để phân tích do không được mô tả cần loại bỏ gồm có:\n",
    "  + INT_*\n",
    "  + dbsource\n",
    "  + crit* \n",
    "  + specificity \n",
    "  + vicinity \n",
    "  + doubtterr \n",
    "  + multiple\n",
    "  + natlty1\n",
    "  + guncertain1\n",
    "  + individual\n",
    "  + property\n",
    "  + ishostkid\n",
    "  + dbsource\n",
    "  + success\n",
    "  + eventid \n",
    "- Các cột cần bỏ do thông tin không cần thiết hoặc bị trùng lặp:\n",
    "  + region (bỏ vì **region** chỉ chứa code định danh, còn **region_txt** mới là tên cần lấy)\n",
    "  + country (đã có **country_txt** mô tả)\n",
    "  + provstate (quận huyện không cần thiết, đã có tên thành phố trong thuộc tính **city**)\n",
    "  + attacktype1 (đã có **attacktype1_txt** mô tả)\n",
    "  + targtype1, targtype1_txt (đã có **target1** mô tả)\n",
    "  + targsubtype1, targsubtype1_txt (đã có **target1** mô tả)\n",
    "  + natlty1_txt (quốc gia được nhắm tới khớp với quốc gia xảy ra bạo loạn)\n",
    "  + weaptype1 (đã có  **weaptype1_txt** mô tả)\n",
    "  + weapsubtype1 (dư)\n",
    "  + weapsubtype1_txt (dư)\n",
    "\n",
    "\n",
    " **Sau đó thay thế các tên thành chữ cho dễ đọc**"
   ]
  },
  {
   "cell_type": "code",
   "execution_count": 9,
   "metadata": {},
   "outputs": [
    {
     "data": {
      "text/html": [
       "<div>\n",
       "<style scoped>\n",
       "    .dataframe tbody tr th:only-of-type {\n",
       "        vertical-align: middle;\n",
       "    }\n",
       "\n",
       "    .dataframe tbody tr th {\n",
       "        vertical-align: top;\n",
       "    }\n",
       "\n",
       "    .dataframe thead th {\n",
       "        text-align: right;\n",
       "    }\n",
       "</style>\n",
       "<table border=\"1\" class=\"dataframe\">\n",
       "  <thead>\n",
       "    <tr style=\"text-align: right;\">\n",
       "      <th></th>\n",
       "      <th>iyear</th>\n",
       "      <th>imonth</th>\n",
       "      <th>iday</th>\n",
       "      <th>extended</th>\n",
       "      <th>country_txt</th>\n",
       "      <th>region_txt</th>\n",
       "      <th>city</th>\n",
       "      <th>latitude</th>\n",
       "      <th>longitude</th>\n",
       "      <th>suicide</th>\n",
       "      <th>attacktype1_txt</th>\n",
       "      <th>target1</th>\n",
       "      <th>gname</th>\n",
       "      <th>weaptype1_txt</th>\n",
       "      <th>nkill</th>\n",
       "      <th>nwound</th>\n",
       "    </tr>\n",
       "  </thead>\n",
       "  <tbody>\n",
       "    <tr>\n",
       "      <th>0</th>\n",
       "      <td>1970</td>\n",
       "      <td>7</td>\n",
       "      <td>2</td>\n",
       "      <td>0</td>\n",
       "      <td>Dominican Republic</td>\n",
       "      <td>Central America &amp; Caribbean</td>\n",
       "      <td>Santo Domingo</td>\n",
       "      <td>18.456792</td>\n",
       "      <td>-69.951164</td>\n",
       "      <td>0</td>\n",
       "      <td>Assassination</td>\n",
       "      <td>Julio Guzman</td>\n",
       "      <td>MANO-D</td>\n",
       "      <td>Unknown</td>\n",
       "      <td>1.0</td>\n",
       "      <td>0.0</td>\n",
       "    </tr>\n",
       "    <tr>\n",
       "      <th>1</th>\n",
       "      <td>1970</td>\n",
       "      <td>0</td>\n",
       "      <td>0</td>\n",
       "      <td>0</td>\n",
       "      <td>Mexico</td>\n",
       "      <td>North America</td>\n",
       "      <td>Mexico city</td>\n",
       "      <td>19.371887</td>\n",
       "      <td>-99.086624</td>\n",
       "      <td>0</td>\n",
       "      <td>Hostage Taking (Kidnapping)</td>\n",
       "      <td>Nadine Chaval, daughter</td>\n",
       "      <td>23rd of September Communist League</td>\n",
       "      <td>Unknown</td>\n",
       "      <td>0.0</td>\n",
       "      <td>0.0</td>\n",
       "    </tr>\n",
       "    <tr>\n",
       "      <th>2</th>\n",
       "      <td>1970</td>\n",
       "      <td>1</td>\n",
       "      <td>0</td>\n",
       "      <td>0</td>\n",
       "      <td>Philippines</td>\n",
       "      <td>Southeast Asia</td>\n",
       "      <td>Unknown</td>\n",
       "      <td>15.478598</td>\n",
       "      <td>120.599741</td>\n",
       "      <td>0</td>\n",
       "      <td>Assassination</td>\n",
       "      <td>Employee</td>\n",
       "      <td>Unknown</td>\n",
       "      <td>Unknown</td>\n",
       "      <td>1.0</td>\n",
       "      <td>0.0</td>\n",
       "    </tr>\n",
       "    <tr>\n",
       "      <th>3</th>\n",
       "      <td>1970</td>\n",
       "      <td>1</td>\n",
       "      <td>0</td>\n",
       "      <td>0</td>\n",
       "      <td>Greece</td>\n",
       "      <td>Western Europe</td>\n",
       "      <td>Athens</td>\n",
       "      <td>37.997490</td>\n",
       "      <td>23.762728</td>\n",
       "      <td>0</td>\n",
       "      <td>Bombing/Explosion</td>\n",
       "      <td>U.S. Embassy</td>\n",
       "      <td>Unknown</td>\n",
       "      <td>Explosives</td>\n",
       "      <td>NaN</td>\n",
       "      <td>NaN</td>\n",
       "    </tr>\n",
       "    <tr>\n",
       "      <th>4</th>\n",
       "      <td>1970</td>\n",
       "      <td>1</td>\n",
       "      <td>0</td>\n",
       "      <td>0</td>\n",
       "      <td>Japan</td>\n",
       "      <td>East Asia</td>\n",
       "      <td>Fukouka</td>\n",
       "      <td>33.580412</td>\n",
       "      <td>130.396361</td>\n",
       "      <td>0</td>\n",
       "      <td>Facility/Infrastructure Attack</td>\n",
       "      <td>U.S. Consulate</td>\n",
       "      <td>Unknown</td>\n",
       "      <td>Incendiary</td>\n",
       "      <td>NaN</td>\n",
       "      <td>NaN</td>\n",
       "    </tr>\n",
       "  </tbody>\n",
       "</table>\n",
       "</div>"
      ],
      "text/plain": [
       "   iyear  imonth  iday  extended         country_txt  \\\n",
       "0   1970       7     2         0  Dominican Republic   \n",
       "1   1970       0     0         0              Mexico   \n",
       "2   1970       1     0         0         Philippines   \n",
       "3   1970       1     0         0              Greece   \n",
       "4   1970       1     0         0               Japan   \n",
       "\n",
       "                    region_txt           city   latitude   longitude  suicide  \\\n",
       "0  Central America & Caribbean  Santo Domingo  18.456792  -69.951164        0   \n",
       "1                North America    Mexico city  19.371887  -99.086624        0   \n",
       "2               Southeast Asia        Unknown  15.478598  120.599741        0   \n",
       "3               Western Europe         Athens  37.997490   23.762728        0   \n",
       "4                    East Asia        Fukouka  33.580412  130.396361        0   \n",
       "\n",
       "                  attacktype1_txt                  target1  \\\n",
       "0                   Assassination             Julio Guzman   \n",
       "1     Hostage Taking (Kidnapping)  Nadine Chaval, daughter   \n",
       "2                   Assassination                 Employee   \n",
       "3               Bombing/Explosion             U.S. Embassy   \n",
       "4  Facility/Infrastructure Attack           U.S. Consulate   \n",
       "\n",
       "                                gname weaptype1_txt  nkill  nwound  \n",
       "0                              MANO-D       Unknown    1.0     0.0  \n",
       "1  23rd of September Communist League       Unknown    0.0     0.0  \n",
       "2                             Unknown       Unknown    1.0     0.0  \n",
       "3                             Unknown    Explosives    NaN     NaN  \n",
       "4                             Unknown    Incendiary    NaN     NaN  "
      ]
     },
     "execution_count": 9,
     "metadata": {},
     "output_type": "execute_result"
    }
   ],
   "source": [
    "# Loại bỏ các cột đã định\n",
    "no_information_columns = ['eventid', 'INT_LOG', 'INT_IDEO', 'INT_MISC', 'INT_ANY', 'dbsource', 'crit1', 'crit2', 'crit3', 'specificity', 'vicinity', 'doubtterr',\n",
    "                          'multiple', 'natlty1', 'guncertain1', 'individual', 'property', 'ishostkid', 'dbsource', 'success']\n",
    "duplicate_information_columns = ['region', 'country', 'provstate', \n",
    "                                 'attacktype1', 'targtype1', 'targtype1_txt','targsubtype1', 'targsubtype1_txt', \n",
    "                                 'natlty1_txt', 'weaptype1', 'weapsubtype1', 'weapsubtype1_txt']    \n",
    "df.drop(no_information_columns, axis=1, inplace=True)\n",
    "df.drop(duplicate_information_columns, axis=1, inplace=True)\n",
    "df.head()"
   ]
  },
  {
   "cell_type": "code",
   "execution_count": 10,
   "metadata": {},
   "outputs": [
    {
     "data": {
      "text/plain": [
       "16"
      ]
     },
     "execution_count": 10,
     "metadata": {},
     "output_type": "execute_result"
    }
   ],
   "source": [
    "len(df.columns)"
   ]
  },
  {
   "cell_type": "code",
   "execution_count": 11,
   "metadata": {},
   "outputs": [
    {
     "data": {
      "text/html": [
       "<div>\n",
       "<style scoped>\n",
       "    .dataframe tbody tr th:only-of-type {\n",
       "        vertical-align: middle;\n",
       "    }\n",
       "\n",
       "    .dataframe tbody tr th {\n",
       "        vertical-align: top;\n",
       "    }\n",
       "\n",
       "    .dataframe thead th {\n",
       "        text-align: right;\n",
       "    }\n",
       "</style>\n",
       "<table border=\"1\" class=\"dataframe\">\n",
       "  <thead>\n",
       "    <tr style=\"text-align: right;\">\n",
       "      <th></th>\n",
       "      <th>year</th>\n",
       "      <th>month</th>\n",
       "      <th>day</th>\n",
       "      <th>extend</th>\n",
       "      <th>country</th>\n",
       "      <th>region</th>\n",
       "      <th>city</th>\n",
       "      <th>latitude</th>\n",
       "      <th>longitude</th>\n",
       "      <th>suicide</th>\n",
       "      <th>attack_type</th>\n",
       "      <th>target</th>\n",
       "      <th>group</th>\n",
       "      <th>weapon_type</th>\n",
       "      <th>killed</th>\n",
       "      <th>wounded</th>\n",
       "    </tr>\n",
       "  </thead>\n",
       "  <tbody>\n",
       "    <tr>\n",
       "      <th>0</th>\n",
       "      <td>1970</td>\n",
       "      <td>7</td>\n",
       "      <td>2</td>\n",
       "      <td>0</td>\n",
       "      <td>Dominican Republic</td>\n",
       "      <td>Central America &amp; Caribbean</td>\n",
       "      <td>Santo Domingo</td>\n",
       "      <td>18.456792</td>\n",
       "      <td>-69.951164</td>\n",
       "      <td>0</td>\n",
       "      <td>Assassination</td>\n",
       "      <td>Julio Guzman</td>\n",
       "      <td>MANO-D</td>\n",
       "      <td>Unknown</td>\n",
       "      <td>1.0</td>\n",
       "      <td>0.0</td>\n",
       "    </tr>\n",
       "    <tr>\n",
       "      <th>1</th>\n",
       "      <td>1970</td>\n",
       "      <td>0</td>\n",
       "      <td>0</td>\n",
       "      <td>0</td>\n",
       "      <td>Mexico</td>\n",
       "      <td>North America</td>\n",
       "      <td>Mexico city</td>\n",
       "      <td>19.371887</td>\n",
       "      <td>-99.086624</td>\n",
       "      <td>0</td>\n",
       "      <td>Hostage Taking (Kidnapping)</td>\n",
       "      <td>Nadine Chaval, daughter</td>\n",
       "      <td>23rd of September Communist League</td>\n",
       "      <td>Unknown</td>\n",
       "      <td>0.0</td>\n",
       "      <td>0.0</td>\n",
       "    </tr>\n",
       "    <tr>\n",
       "      <th>2</th>\n",
       "      <td>1970</td>\n",
       "      <td>1</td>\n",
       "      <td>0</td>\n",
       "      <td>0</td>\n",
       "      <td>Philippines</td>\n",
       "      <td>Southeast Asia</td>\n",
       "      <td>Unknown</td>\n",
       "      <td>15.478598</td>\n",
       "      <td>120.599741</td>\n",
       "      <td>0</td>\n",
       "      <td>Assassination</td>\n",
       "      <td>Employee</td>\n",
       "      <td>Unknown</td>\n",
       "      <td>Unknown</td>\n",
       "      <td>1.0</td>\n",
       "      <td>0.0</td>\n",
       "    </tr>\n",
       "    <tr>\n",
       "      <th>3</th>\n",
       "      <td>1970</td>\n",
       "      <td>1</td>\n",
       "      <td>0</td>\n",
       "      <td>0</td>\n",
       "      <td>Greece</td>\n",
       "      <td>Western Europe</td>\n",
       "      <td>Athens</td>\n",
       "      <td>37.997490</td>\n",
       "      <td>23.762728</td>\n",
       "      <td>0</td>\n",
       "      <td>Bombing/Explosion</td>\n",
       "      <td>U.S. Embassy</td>\n",
       "      <td>Unknown</td>\n",
       "      <td>Explosives</td>\n",
       "      <td>NaN</td>\n",
       "      <td>NaN</td>\n",
       "    </tr>\n",
       "    <tr>\n",
       "      <th>4</th>\n",
       "      <td>1970</td>\n",
       "      <td>1</td>\n",
       "      <td>0</td>\n",
       "      <td>0</td>\n",
       "      <td>Japan</td>\n",
       "      <td>East Asia</td>\n",
       "      <td>Fukouka</td>\n",
       "      <td>33.580412</td>\n",
       "      <td>130.396361</td>\n",
       "      <td>0</td>\n",
       "      <td>Facility/Infrastructure Attack</td>\n",
       "      <td>U.S. Consulate</td>\n",
       "      <td>Unknown</td>\n",
       "      <td>Incendiary</td>\n",
       "      <td>NaN</td>\n",
       "      <td>NaN</td>\n",
       "    </tr>\n",
       "  </tbody>\n",
       "</table>\n",
       "</div>"
      ],
      "text/plain": [
       "   year  month  day  extend             country                       region  \\\n",
       "0  1970      7    2       0  Dominican Republic  Central America & Caribbean   \n",
       "1  1970      0    0       0              Mexico                North America   \n",
       "2  1970      1    0       0         Philippines               Southeast Asia   \n",
       "3  1970      1    0       0              Greece               Western Europe   \n",
       "4  1970      1    0       0               Japan                    East Asia   \n",
       "\n",
       "            city   latitude   longitude  suicide  \\\n",
       "0  Santo Domingo  18.456792  -69.951164        0   \n",
       "1    Mexico city  19.371887  -99.086624        0   \n",
       "2        Unknown  15.478598  120.599741        0   \n",
       "3         Athens  37.997490   23.762728        0   \n",
       "4        Fukouka  33.580412  130.396361        0   \n",
       "\n",
       "                      attack_type                   target  \\\n",
       "0                   Assassination             Julio Guzman   \n",
       "1     Hostage Taking (Kidnapping)  Nadine Chaval, daughter   \n",
       "2                   Assassination                 Employee   \n",
       "3               Bombing/Explosion             U.S. Embassy   \n",
       "4  Facility/Infrastructure Attack           U.S. Consulate   \n",
       "\n",
       "                                group weapon_type  killed  wounded  \n",
       "0                              MANO-D     Unknown     1.0      0.0  \n",
       "1  23rd of September Communist League     Unknown     0.0      0.0  \n",
       "2                             Unknown     Unknown     1.0      0.0  \n",
       "3                             Unknown  Explosives     NaN      NaN  \n",
       "4                             Unknown  Incendiary     NaN      NaN  "
      ]
     },
     "execution_count": 11,
     "metadata": {},
     "output_type": "execute_result"
    }
   ],
   "source": [
    "df.rename(columns={'iyear':'year','imonth':'month', 'iday':'day', 'extended':'extend',\n",
    "                      'country_txt':'country','region_txt':'region','city':'city',\n",
    "                      'attacktype1_txt':'attack_type','target1':'target',\n",
    "                      'nkill':'killed','nwound':'wounded',\n",
    "                      'gname':'group',\n",
    "                      'weaptype1_txt':'weapon_type',\n",
    "                      },inplace=True)\n",
    "\n",
    "df.head()"
   ]
  },
  {
   "cell_type": "markdown",
   "metadata": {},
   "source": [
    "Thống kê lại các thuộc tính:\n",
    "1. **year**: năm xảy vụ khủng bố\n",
    "2. **month**: tháng trong năm xảy ra khủng bố\n",
    "3. **day**: ngày trong tháng xảy ra khủng bố\n",
    "4. **extend**: bằng 1 nếu thời gian khủng bố kéo dài hơn 24 tiếng, ngược lại bằng 0\n",
    "5. **country**: tên quốc gia xảy ra khủng bố\n",
    "6. **region**: khu vực xảy ra khủng bố\n",
    "7. **city**: thành phố hoặc làng hoặc thị trấn xảy ra khủng bố\n",
    "8. **latitude**: vĩ độ\n",
    "9. **longitude**: kinh độ\n",
    "10. **suicide**: bằng 1 nếu là cuộc tấn công tự sát, ngược lại bằng 0\n",
    "11. **attack_type**: hình thức tấn công\n",
    "12. **target**: đối tượng bị tấn công\n",
    "13. **group**: nhóm thực hiện tấn công\n",
    "14. **weapon_type**: vũ khí thực hiện tấn công\n",
    "15. **killed**: số lượng người chết\n",
    "16. **wounded**: số lượng người bị thương\n"
   ]
  },
  {
   "cell_type": "markdown",
   "metadata": {},
   "source": [
    "# Các câu hỏi thống kê"
   ]
  },
  {
   "cell_type": "markdown",
   "metadata": {},
   "source": [
    "Câu 1: Bảng số liệu này được thu thập trong khoảng thời gian nào? Có bao nhiêu cuộc khủng bố xảy ra?"
   ]
  },
  {
   "cell_type": "code",
   "execution_count": 12,
   "metadata": {},
   "outputs": [
    {
     "name": "stdout",
     "output_type": "stream",
     "text": [
      "Thời gian từ 1970 đến 2017\n",
      "Số cuộc khủng bố là: 181691\n"
     ]
    }
   ],
   "source": [
    "print(f'Thời gian từ {df.year.min()} đến {df.year.max()}')\n",
    "print(f'Số cuộc khủng bố là: {df.index.nunique()}')"
   ]
  },
  {
   "cell_type": "markdown",
   "metadata": {},
   "source": [
    "Câu 2: Có bao nhiêu quốc gia xảy ra khủng bố? Bao gồm bao nhiêu khu vực?"
   ]
  },
  {
   "cell_type": "code",
   "execution_count": 13,
   "metadata": {},
   "outputs": [
    {
     "name": "stdout",
     "output_type": "stream",
     "text": [
      "Số lượng quốc gia xảy ra khủng bố là: 205\n",
      "Trải rộng trên 12 khu vực\n"
     ]
    }
   ],
   "source": [
    "print(f'Số lượng quốc gia xảy ra khủng bố là: {df.country.nunique()}')\n",
    "print(f'Trải rộng trên {df.region.nunique()} khu vực')"
   ]
  },
  {
   "cell_type": "markdown",
   "metadata": {},
   "source": [
    "Câu 3: Số lượng người chết và bị thương?"
   ]
  },
  {
   "cell_type": "code",
   "execution_count": 14,
   "metadata": {},
   "outputs": [
    {
     "name": "stdout",
     "output_type": "stream",
     "text": [
      "Số lượng người bị thương là 411868 đến 523869\n"
     ]
    }
   ],
   "source": [
    "print(f'Số lượng người bị thương là {int(df.killed.sum())} đến {int(df.wounded.sum())}')"
   ]
  },
  {
   "cell_type": "markdown",
   "metadata": {},
   "source": [
    "Câu 4: Đâu là nơi xảy ra tấn công nhiều nhất? Bao nhiêu cuộc tấn công?"
   ]
  },
  {
   "cell_type": "code",
   "execution_count": 15,
   "metadata": {},
   "outputs": [
    {
     "name": "stdout",
     "output_type": "stream",
     "text": [
      "Danh sách 10 quốc gia bị tấn công nhiều nhất:\n",
      "1. Iraq với 24636 cuộc tấn công\n",
      "2. Pakistan với 14368 cuộc tấn công\n",
      "3. Afghanistan với 12731 cuộc tấn công\n",
      "4. India với 11960 cuộc tấn công\n",
      "5. Colombia với 8306 cuộc tấn công\n",
      "6. Philippines với 6908 cuộc tấn công\n",
      "7. Peru với 6096 cuộc tấn công\n",
      "8. El Salvador với 5320 cuộc tấn công\n",
      "9. United Kingdom với 5235 cuộc tấn công\n",
      "10. Turkey với 4292 cuộc tấn công\n"
     ]
    }
   ],
   "source": [
    "print('Danh sách 10 quốc gia bị tấn công nhiều nhất:')\n",
    "for i in range(0,10):\n",
    "    print(f\"{i+1}. {df.country.value_counts().index[i]} với {df.country.value_counts()[i]} cuộc tấn công\")"
   ]
  },
  {
   "cell_type": "code",
   "execution_count": 16,
   "metadata": {},
   "outputs": [
    {
     "name": "stdout",
     "output_type": "stream",
     "text": [
      "Danh sách 5 khu vực bị tấn công nhiều nhất:\n",
      "1. Middle East & North Africa với 50474 cuộc tấn công\n",
      "2. South Asia với 44974 cuộc tấn công\n",
      "3. South America với 18978 cuộc tấn công\n",
      "4. Sub-Saharan Africa với 17550 cuộc tấn công\n",
      "5. Western Europe với 16639 cuộc tấn công\n"
     ]
    }
   ],
   "source": [
    "print('Danh sách 5 khu vực bị tấn công nhiều nhất:')\n",
    "for i in range(0,5):\n",
    "    print(f\"{i+1}. {df.region.value_counts().index[i]} với {df.region.value_counts()[i]} cuộc tấn công\")"
   ]
  },
  {
   "cell_type": "markdown",
   "metadata": {},
   "source": [
    "# Phân tích dữ liệu"
   ]
  },
  {
   "cell_type": "markdown",
   "metadata": {},
   "source": [
    "## Số lượng người chết và bị thương với số lượng cuộc khủng bố theo quốc gia"
   ]
  },
  {
   "cell_type": "markdown",
   "metadata": {},
   "source": [
    "Câu 1: Tương quan giữa số lượng người chết và bị thương với số lượng cuộc tấn công như thế nào?"
   ]
  },
  {
   "cell_type": "code",
   "execution_count": 17,
   "metadata": {},
   "outputs": [
    {
     "data": {
      "image/png": "[encoded data removed]",
      "text/plain": [
       "<Figure size 1152x576 with 1 Axes>"
      ]
     },
     "metadata": {},
     "output_type": "display_data"
    }
   ],
   "source": [
    "# gom nhóm theo quốc gia và đếm số lượng cuộc tấn công (top 10)\n",
    "country_attacks = df['country'].value_counts()[:10].reset_index()\n",
    "country_attacks.columns = ['Country', 'Total Attacks']\n",
    "\n",
    "# vẽ biểu đồ cột thể hiện số người bị thương theo từng quốc gia(top 10)\n",
    "ax = sns.barplot(x='Country', y='Total Attacks',  \n",
    "                 data=country_attacks,\n",
    "                 palette= 'Blues_d',\n",
    "                 edgecolor=sns.color_palette('dark',25))\n",
    "\n",
    "# Thiết lập 1 số thuộc tính biểu đồ\n",
    "ax.set_xlabel('Country', fontsize=17)\n",
    "ax.set_ylabel('Total Attacks', fontsize=17)\n",
    "\n",
    "plt.xticks(rotation=35, \n",
    "           fontsize=15)\n",
    "plt.yticks(fontsize=15)\n",
    "\n",
    "plt.title('Number Of Total Attacks in Each Country', fontsize=20)\n",
    "plt.show()"
   ]
  },
  {
   "cell_type": "code",
   "execution_count": 18,
   "metadata": {},
   "outputs": [
    {
     "data": {
      "image/png": "[encoded data removed]",
      "text/plain": [
       "<Figure size 1152x576 with 1 Axes>"
      ]
     },
     "metadata": {},
     "output_type": "display_data"
    }
   ],
   "source": [
    "# Trước hết, ta thêm 1 cột dữ liệu là số người chết và bị thương (tổng của 2 cột 'killed' và 'wounded')\n",
    "df['casualities'] = df.killed + df.wounded\n",
    "\n",
    "#dữ liệu 10 quốc gia có số lượng người bị thương nhiều nhất\n",
    "country_casualities = df.groupby('country')['casualities'].sum()  \\\n",
    "                      .to_frame().reset_index()  \\\n",
    "                      .sort_values('casualities', ascending=False)[:10]\n",
    "\n",
    "# vẽ biểu đồ cột thể hiện số người bị thương theo từng quốc gia(top 10)\n",
    "ax = sns.barplot(x='country', y='casualities', \n",
    "                 data=country_casualities, \n",
    "                 palette= 'Blues_d', \n",
    "                 edgecolor=sns.color_palette('dark',25))\n",
    "\n",
    "# Thiết lập 1 số thuộc tính biểu đồ\n",
    "ax.set_xlabel('Country', fontsize=17)\n",
    "ax.set_ylabel('Casualities', fontsize=17)\n",
    "\n",
    "plt.xticks(rotation=35, \n",
    "           fontsize=15)\n",
    "plt.yticks(fontsize=15)\n",
    "\n",
    "plt.title('Number Of Total Attacks in Each Country', fontsize=20)\n",
    "\n",
    "plt.show()"
   ]
  },
  {
   "cell_type": "markdown",
   "metadata": {},
   "source": [
    "Biểu đồ đầu tiên cho ta thấy được số cuộc bạo loạn tại các quốc gia, điển hình là các quốc gia Irag, Afganistan, Pakistan, India luôn là tâm điểm trong các bản tin thời sự trong nước lẫn ngoài nước với số cuộc khủng bố rất nhiều.\n",
    "\n",
    "Đối chiếu với 2 biểu đồ với nhau, ta có thể thấy số cuộc bạo loạn ở **Iraq** có ảnh hưởng đến số người chết và bị thương tại chính quốc gia này. Ngoài ra đối với các quốc gia khác thì sự tương quan này có xảy ra nhưng số lượng người bị ảnh hưởng thấp hơn rất nhiều so với **Iraq**.\n",
    " \n",
    "Tuy nhiên con số phần nào nói lên rằng nội chiến tại Iraq xảy ra với quy mô lớn và con người vô tội bị lôi kéo vào cuộc chiến rất nhiều."
   ]
  },
  {
   "cell_type": "code",
   "execution_count": 19,
   "metadata": {},
   "outputs": [
    {
     "data": {
      "image/png": "[encoded data removed]",
      "text/plain": [
       "<Figure size 1152x576 with 2 Axes>"
      ]
     },
     "metadata": {},
     "output_type": "display_data"
    }
   ],
   "source": [
    "#dữ liệu 10 quốc gia có số lượng người chết và bị thương nhiều nhất\n",
    "country_casualities = df.groupby('country')['casualities'].sum()  \\\n",
    "                      .to_frame().reset_index()  \\\n",
    "                      .sort_values('casualities', ascending=False)[:10]\n",
    "\n",
    "#dữ liệu các quốc gia với số lượng cuộc khủng bố\n",
    "country_attacks = df['country'].value_counts().reset_index()\n",
    "country_attacks.columns = ['country', 'Total Attacks']\n",
    "\n",
    "#join 2 dữ liệu lại theo country (left join)\n",
    "tmp_df = country_casualities.set_index('country').join(country_attacks.set_index('country'), how='left')\n",
    "tmp_df.reset_index(inplace=True)\n",
    "tmp_df = tmp_df.sort_values(['casualities', 'Total Attacks'], ascending=False)\n",
    "\n",
    "# melt dữ liệu để vẽ 2 cột trong cùng 1 biểu đồ cột\n",
    "tmp_df_melt = pd.melt(tmp_df, \n",
    "                      id_vars='country',\n",
    "                      value_vars=['casualities','Total Attacks'], \n",
    "                      var_name ='source',\n",
    "                      value_name='Numbers')\n",
    "\n",
    "plt.twinx()\n",
    "# vẽ biểu đồ cột thể hiện số người bị ảnh hưởng và số cuộc khủng bố từng quốc gia(top 10)\n",
    "ax = sns.barplot(x='country', y='Numbers', \n",
    "                 hue='source',\n",
    "                 data=tmp_df_melt)\n",
    "\n",
    "# Thiết lập 1 số thuộc tính biểu đồ\n",
    "plt.xticks(rotation=35, \n",
    "           fontsize=15)\n",
    "plt.yticks(fontsize=15)\n",
    "\n",
    "plt.title('Number Of Total Attacks in Each Country', fontsize=20)\n",
    "\n",
    "plt.show()"
   ]
  }
 ],
 "metadata": {
  "kernelspec": {
   "display_name": "Python 3",
   "language": "python",
   "name": "python3"
  },
  "language_info": {
   "codemirror_mode": {
    "name": "ipython",
    "version": 3
   },
   "file_extension": ".py",
   "mimetype": "text/x-python",
   "name": "python",
   "nbconvert_exporter": "python",
   "pygments_lexer": "ipython3",
   "version": "3.6.4rc1"
  }
 },
 "nbformat": 4,
 "nbformat_minor": 4
}
